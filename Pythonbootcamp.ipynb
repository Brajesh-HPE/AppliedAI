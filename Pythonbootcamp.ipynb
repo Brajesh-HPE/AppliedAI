{
  "nbformat": 4,
  "nbformat_minor": 0,
  "metadata": {
    "colab": {
      "provenance": [],
      "include_colab_link": true
    },
    "kernelspec": {
      "name": "python3",
      "display_name": "Python 3"
    },
    "language_info": {
      "name": "python"
    }
  },
  "cells": [
    {
      "cell_type": "markdown",
      "metadata": {
        "id": "view-in-github",
        "colab_type": "text"
      },
      "source": [
        "<a href=\"https://colab.research.google.com/github/Brajesh-HPE/AppliedAI/blob/main/Pythonbootcamp.ipynb\" target=\"_parent\"><img src=\"https://colab.research.google.com/assets/colab-badge.svg\" alt=\"Open In Colab\"/></a>"
      ]
    },
    {
      "cell_type": "code",
      "execution_count": null,
      "metadata": {
        "colab": {
          "base_uri": "https://localhost:8080/"
        },
        "id": "XN8wwLkdstSn",
        "outputId": "7617cc02-7330-48cc-8af4-6690337fb3a1"
      },
      "outputs": [
        {
          "output_type": "stream",
          "name": "stdout",
          "text": [
            "x= 3\n",
            "y= 5\n",
            "7 9\n"
          ]
        }
      ],
      "source": [
        "def swap(x,y):\n",
        "    temp = x\n",
        "    x=y\n",
        "    y=temp\n",
        "    print(\"x=\",x)\n",
        "    print(\"y=\",y)\n",
        "\n",
        "swap(5,3)\n",
        "def expertswap(x,y):\n",
        "  x,y=y,x\n",
        "  print(x,y)\n",
        "\n",
        "expertswap(9,7)\n",
        "\n"
      ]
    },
    {
      "cell_type": "code",
      "source": [],
      "metadata": {
        "id": "j0Ej1jU4oSqW"
      },
      "execution_count": null,
      "outputs": []
    },
    {
      "cell_type": "markdown",
      "source": [
        "Numpy"
      ],
      "metadata": {
        "id": "v3bb66N_oTVC"
      }
    },
    {
      "cell_type": "code",
      "source": [
        "pip install numpy"
      ],
      "metadata": {
        "colab": {
          "base_uri": "https://localhost:8080/"
        },
        "id": "HACaQoz6oT3J",
        "outputId": "91386b2a-0a05-4f2f-9191-9ebb508382c0"
      },
      "execution_count": 2,
      "outputs": [
        {
          "output_type": "stream",
          "name": "stdout",
          "text": [
            "Requirement already satisfied: numpy in /usr/local/lib/python3.10/dist-packages (1.26.4)\n"
          ]
        }
      ]
    },
    {
      "cell_type": "code",
      "source": [
        "import numpy as np\n",
        "r = '2'\n",
        "t = 't'\n",
        "a1 = np.array = 1,2,3,4,r,t,1.3\n",
        "a2 = np.array = 1,2,3,4,r,t,1.3\n",
        "for i in (np.array_split(a1,2)):\n",
        "  print(i)\n"
      ],
      "metadata": {
        "colab": {
          "base_uri": "https://localhost:8080/"
        },
        "id": "98hwohi9ouUg",
        "outputId": "f373012b-60e1-4628-9ae5-495996a32a8e"
      },
      "execution_count": 27,
      "outputs": [
        {
          "output_type": "stream",
          "name": "stdout",
          "text": [
            "['1' '2' '3' '4']\n",
            "['2' 't' '1.3']\n"
          ]
        }
      ]
    },
    {
      "cell_type": "code",
      "source": [
        "list1 = [1,2,3,4,5]\n",
        "list1\n",
        "[i**2 for i in list1]\n",
        "ar1 = np.array =[1,2,3,4,5]\n",
        "ar1**2"
      ],
      "metadata": {
        "id": "oKx_4zSosK2_",
        "outputId": "d7c3fdff-b7b4-4709-ffb9-ba0bc2651504",
        "colab": {
          "base_uri": "https://localhost:8080/",
          "height": 176
        }
      },
      "execution_count": 35,
      "outputs": [
        {
          "output_type": "error",
          "ename": "TypeError",
          "evalue": "unsupported operand type(s) for ** or pow(): 'list' and 'int'",
          "traceback": [
            "\u001b[0;31m---------------------------------------------------------------------------\u001b[0m",
            "\u001b[0;31mTypeError\u001b[0m                                 Traceback (most recent call last)",
            "\u001b[0;32m<ipython-input-35-c3abac3fc231>\u001b[0m in \u001b[0;36m<cell line: 5>\u001b[0;34m()\u001b[0m\n\u001b[1;32m      3\u001b[0m \u001b[0;34m[\u001b[0m\u001b[0mi\u001b[0m\u001b[0;34m**\u001b[0m\u001b[0;36m2\u001b[0m \u001b[0;32mfor\u001b[0m \u001b[0mi\u001b[0m \u001b[0;32min\u001b[0m \u001b[0mlist1\u001b[0m\u001b[0;34m]\u001b[0m\u001b[0;34m\u001b[0m\u001b[0;34m\u001b[0m\u001b[0m\n\u001b[1;32m      4\u001b[0m \u001b[0mar1\u001b[0m \u001b[0;34m=\u001b[0m \u001b[0mnp\u001b[0m\u001b[0;34m.\u001b[0m\u001b[0marray\u001b[0m \u001b[0;34m=\u001b[0m\u001b[0;34m[\u001b[0m\u001b[0;36m1\u001b[0m\u001b[0;34m,\u001b[0m\u001b[0;36m2\u001b[0m\u001b[0;34m,\u001b[0m\u001b[0;36m3\u001b[0m\u001b[0;34m,\u001b[0m\u001b[0;36m4\u001b[0m\u001b[0;34m,\u001b[0m\u001b[0;36m5\u001b[0m\u001b[0;34m]\u001b[0m\u001b[0;34m\u001b[0m\u001b[0;34m\u001b[0m\u001b[0m\n\u001b[0;32m----> 5\u001b[0;31m \u001b[0mar1\u001b[0m\u001b[0;34m**\u001b[0m\u001b[0;36m2\u001b[0m\u001b[0;34m\u001b[0m\u001b[0;34m\u001b[0m\u001b[0m\n\u001b[0m",
            "\u001b[0;31mTypeError\u001b[0m: unsupported operand type(s) for ** or pow(): 'list' and 'int'"
          ]
        }
      ]
    },
    {
      "cell_type": "markdown",
      "source": [
        "'p' in 'ythonP'"
      ],
      "metadata": {
        "id": "WCzw9heG0QPF"
      }
    },
    {
      "cell_type": "code",
      "source": [
        "# x = 3\n",
        "# y = 3\n",
        "# x ='a'\n",
        "# y = 'a'\n",
        "x = 4.7\n",
        "y = 4.7\n",
        "# x = 7\n",
        "# y = 7\n",
        "x is y\n",
        "\n"
      ],
      "metadata": {
        "id": "kGFVXtZAoCkL",
        "outputId": "a0d9e244-3e30-428c-a569-553a6928499d",
        "colab": {
          "base_uri": "https://localhost:8080/"
        }
      },
      "execution_count": null,
      "outputs": [
        {
          "output_type": "execute_result",
          "data": {
            "text/plain": [
              "False"
            ]
          },
          "metadata": {},
          "execution_count": 21
        }
      ]
    },
    {
      "cell_type": "markdown",
      "source": [
        "#import numpy as np\n",
        "'str'+'hello'\n"
      ],
      "metadata": {
        "id": "nyA-6y2S0Uka"
      }
    },
    {
      "cell_type": "code",
      "source": [
        "14 and 4\n",
        "14 & 4\n"
      ],
      "metadata": {
        "id": "lEN2az1r4NR-",
        "outputId": "e73501ea-e918-4c07-90dd-823d8b28394b",
        "colab": {
          "base_uri": "https://localhost:8080/"
        }
      },
      "execution_count": null,
      "outputs": [
        {
          "output_type": "execute_result",
          "data": {
            "text/plain": [
              "4"
            ]
          },
          "metadata": {},
          "execution_count": 23
        }
      ]
    },
    {
      "cell_type": "markdown",
      "source": [],
      "metadata": {
        "id": "pY0tTUQv4ahd"
      }
    }
  ]
}