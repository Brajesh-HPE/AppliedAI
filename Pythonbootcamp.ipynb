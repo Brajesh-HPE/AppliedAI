{
  "nbformat": 4,
  "nbformat_minor": 0,
  "metadata": {
    "colab": {
      "provenance": [],
      "authorship_tag": "ABX9TyPtwVCWoI3HA7h1g2HW8/WP",
      "include_colab_link": true
    },
    "kernelspec": {
      "name": "python3",
      "display_name": "Python 3"
    },
    "language_info": {
      "name": "python"
    }
  },
  "cells": [
    {
      "cell_type": "markdown",
      "metadata": {
        "id": "view-in-github",
        "colab_type": "text"
      },
      "source": [
        "<a href=\"https://colab.research.google.com/github/Brajesh-HPE/AppliedAI/blob/main/Pythonbootcamp.ipynb\" target=\"_parent\"><img src=\"https://colab.research.google.com/assets/colab-badge.svg\" alt=\"Open In Colab\"/></a>"
      ]
    },
    {
      "cell_type": "code",
      "execution_count": 6,
      "metadata": {
        "colab": {
          "base_uri": "https://localhost:8080/"
        },
        "id": "XN8wwLkdstSn",
        "outputId": "7617cc02-7330-48cc-8af4-6690337fb3a1"
      },
      "outputs": [
        {
          "output_type": "stream",
          "name": "stdout",
          "text": [
            "x= 3\n",
            "y= 5\n",
            "7 9\n"
          ]
        }
      ],
      "source": [
        "def swap(x,y):\n",
        "    temp = x\n",
        "    x=y\n",
        "    y=temp\n",
        "    print(\"x=\",x)\n",
        "    print(\"y=\",y)\n",
        "\n",
        "swap(5,3)\n",
        "def expertswap(x,y):\n",
        "  x,y=y,x\n",
        "  print(x,y)\n",
        "\n",
        "expertswap(9,7)\n",
        "\n"
      ]
    },
    {
      "cell_type": "markdown",
      "source": [
        "'p' in 'ythonP'"
      ],
      "metadata": {
        "id": "WCzw9heG0QPF"
      }
    },
    {
      "cell_type": "code",
      "source": [
        "# x = 3\n",
        "# y = 3\n",
        "# x ='a'\n",
        "# y = 'a'\n",
        "x = 4.7\n",
        "y = 4.7\n",
        "# x = 7\n",
        "# y = 7\n",
        "x is y\n",
        "\n"
      ],
      "metadata": {
        "id": "kGFVXtZAoCkL",
        "outputId": "a0d9e244-3e30-428c-a569-553a6928499d",
        "colab": {
          "base_uri": "https://localhost:8080/"
        }
      },
      "execution_count": 21,
      "outputs": [
        {
          "output_type": "execute_result",
          "data": {
            "text/plain": [
              "False"
            ]
          },
          "metadata": {},
          "execution_count": 21
        }
      ]
    },
    {
      "cell_type": "markdown",
      "source": [
        "#import numpy as np\n",
        "'str'+'hello'\n"
      ],
      "metadata": {
        "id": "nyA-6y2S0Uka"
      }
    },
    {
      "cell_type": "code",
      "source": [
        "14 and 4\n",
        "14 & 4\n"
      ],
      "metadata": {
        "id": "lEN2az1r4NR-",
        "outputId": "e73501ea-e918-4c07-90dd-823d8b28394b",
        "colab": {
          "base_uri": "https://localhost:8080/"
        }
      },
      "execution_count": 23,
      "outputs": [
        {
          "output_type": "execute_result",
          "data": {
            "text/plain": [
              "4"
            ]
          },
          "metadata": {},
          "execution_count": 23
        }
      ]
    },
    {
      "cell_type": "markdown",
      "source": [],
      "metadata": {
        "id": "pY0tTUQv4ahd"
      }
    }
  ]
}